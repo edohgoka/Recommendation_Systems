{
  "nbformat": 4,
  "nbformat_minor": 0,
  "metadata": {
    "colab": {
      "name": "Amazon_Electronics_Products_Recommendation_System.ipynb",
      "provenance": [],
      "collapsed_sections": []
    },
    "kernelspec": {
      "name": "python3",
      "display_name": "Python 3"
    },
    "language_info": {
      "name": "python"
    }
  },
  "cells": [
    {
      "cell_type": "markdown",
      "metadata": {
        "id": "sN5U-BbRsdYI"
      },
      "source": [
        "# Goal\n",
        "\n",
        "This project is carried out to develop a recommendation system for amazon products (electronics products). I am using in this project a dataset from **Amazon Reviews data** that can be found [here](http://jmcauley.ucsd.edu/data/amazon/)."
      ]
    },
    {
      "cell_type": "markdown",
      "metadata": {
        "id": "NOq6uG13scAe"
      },
      "source": [
        "# Importing Libraries and Loading the dataset"
      ]
    },
    {
      "cell_type": "code",
      "metadata": {
        "colab": {
          "base_uri": "https://localhost:8080/"
        },
        "id": "h3GEXdK-QrNz",
        "outputId": "34b03dcb-021c-4889-d5d5-bcf1ab81aaf0"
      },
      "source": [
        "!pip install surprise==0.1"
      ],
      "execution_count": 1,
      "outputs": [
        {
          "output_type": "stream",
          "name": "stdout",
          "text": [
            "Requirement already satisfied: surprise==0.1 in /usr/local/lib/python3.7/dist-packages (0.1)\n",
            "Requirement already satisfied: scikit-surprise in /usr/local/lib/python3.7/dist-packages (from surprise==0.1) (1.1.1)\n",
            "Requirement already satisfied: numpy>=1.11.2 in /usr/local/lib/python3.7/dist-packages (from scikit-surprise->surprise==0.1) (1.19.5)\n",
            "Requirement already satisfied: scipy>=1.0.0 in /usr/local/lib/python3.7/dist-packages (from scikit-surprise->surprise==0.1) (1.4.1)\n",
            "Requirement already satisfied: joblib>=0.11 in /usr/local/lib/python3.7/dist-packages (from scikit-surprise->surprise==0.1) (1.0.1)\n",
            "Requirement already satisfied: six>=1.10.0 in /usr/local/lib/python3.7/dist-packages (from scikit-surprise->surprise==0.1) (1.15.0)\n"
          ]
        }
      ]
    },
    {
      "cell_type": "code",
      "metadata": {
        "id": "Fk7hHxzZQetI"
      },
      "source": [
        "import pandas as pd\n",
        "import numpy as np\n",
        "import matplotlib.pyplot as plt\n",
        "from surprise import Reader, Dataset, SVD, NormalPredictor, BaselineOnly, KNNBasic, NMF\n",
        "from surprise.model_selection import cross_validate, KFold"
      ],
      "execution_count": 2,
      "outputs": []
    },
    {
      "cell_type": "code",
      "metadata": {
        "id": "JOXJasJzQrWu"
      },
      "source": [
        "df = pd.read_csv(\"/content/drive/MyDrive/Electronics.csv\", header=None, names=[\"user_id\", \"product_id\", \"rating\", \"timestamp\"])"
      ],
      "execution_count": 3,
      "outputs": []
    },
    {
      "cell_type": "markdown",
      "metadata": {
        "id": "aZyF4uANsU21"
      },
      "source": [
        "# Exploratory Data Analysis"
      ]
    },
    {
      "cell_type": "code",
      "metadata": {
        "colab": {
          "base_uri": "https://localhost:8080/"
        },
        "id": "tjGEozuOdRXE",
        "outputId": "f7f38d45-b258-4a4f-c622-bc839f117160"
      },
      "source": [
        "df.shape"
      ],
      "execution_count": 4,
      "outputs": [
        {
          "output_type": "execute_result",
          "data": {
            "text/plain": [
              "(20994353, 4)"
            ]
          },
          "metadata": {},
          "execution_count": 4
        }
      ]
    },
    {
      "cell_type": "code",
      "metadata": {
        "id": "KpPQs9y2diEn"
      },
      "source": [
        "## The dataset is too big to be handled, so I only took the first 10000 lines\n",
        "df = df.iloc[0:10000, ]"
      ],
      "execution_count": 5,
      "outputs": []
    },
    {
      "cell_type": "code",
      "metadata": {
        "colab": {
          "base_uri": "https://localhost:8080/",
          "height": 665
        },
        "id": "F4BeTNiZQrZW",
        "outputId": "1771c1bc-0394-4ca5-f93e-52a686ec9fdb"
      },
      "source": [
        "df.head(20)"
      ],
      "execution_count": 6,
      "outputs": [
        {
          "output_type": "execute_result",
          "data": {
            "text/html": [
              "<div>\n",
              "<style scoped>\n",
              "    .dataframe tbody tr th:only-of-type {\n",
              "        vertical-align: middle;\n",
              "    }\n",
              "\n",
              "    .dataframe tbody tr th {\n",
              "        vertical-align: top;\n",
              "    }\n",
              "\n",
              "    .dataframe thead th {\n",
              "        text-align: right;\n",
              "    }\n",
              "</style>\n",
              "<table border=\"1\" class=\"dataframe\">\n",
              "  <thead>\n",
              "    <tr style=\"text-align: right;\">\n",
              "      <th></th>\n",
              "      <th>user_id</th>\n",
              "      <th>product_id</th>\n",
              "      <th>rating</th>\n",
              "      <th>timestamp</th>\n",
              "    </tr>\n",
              "  </thead>\n",
              "  <tbody>\n",
              "    <tr>\n",
              "      <th>0</th>\n",
              "      <td>0060009810</td>\n",
              "      <td>A1N070NS9CJQ2I</td>\n",
              "      <td>5.0</td>\n",
              "      <td>1026864000</td>\n",
              "    </tr>\n",
              "    <tr>\n",
              "      <th>1</th>\n",
              "      <td>0060009810</td>\n",
              "      <td>A3P0KRKOBQK1KN</td>\n",
              "      <td>5.0</td>\n",
              "      <td>1025913600</td>\n",
              "    </tr>\n",
              "    <tr>\n",
              "      <th>2</th>\n",
              "      <td>0060009810</td>\n",
              "      <td>A192HO2ICJ75VU</td>\n",
              "      <td>5.0</td>\n",
              "      <td>1025654400</td>\n",
              "    </tr>\n",
              "    <tr>\n",
              "      <th>3</th>\n",
              "      <td>0060009810</td>\n",
              "      <td>A2T278FKFL3BLT</td>\n",
              "      <td>4.0</td>\n",
              "      <td>1025395200</td>\n",
              "    </tr>\n",
              "    <tr>\n",
              "      <th>4</th>\n",
              "      <td>0060009810</td>\n",
              "      <td>A2ZUXVTW8RXBXW</td>\n",
              "      <td>5.0</td>\n",
              "      <td>1025222400</td>\n",
              "    </tr>\n",
              "    <tr>\n",
              "      <th>5</th>\n",
              "      <td>0060009810</td>\n",
              "      <td>A21JDG4HA6OLPF</td>\n",
              "      <td>4.0</td>\n",
              "      <td>1024963200</td>\n",
              "    </tr>\n",
              "    <tr>\n",
              "      <th>6</th>\n",
              "      <td>0060009810</td>\n",
              "      <td>A2NCADLQY962YD</td>\n",
              "      <td>5.0</td>\n",
              "      <td>1024704000</td>\n",
              "    </tr>\n",
              "    <tr>\n",
              "      <th>7</th>\n",
              "      <td>0060786817</td>\n",
              "      <td>A2UNA438B0FRA8</td>\n",
              "      <td>5.0</td>\n",
              "      <td>1138233600</td>\n",
              "    </tr>\n",
              "    <tr>\n",
              "      <th>8</th>\n",
              "      <td>0060786817</td>\n",
              "      <td>A2NQQSHSQKKGEX</td>\n",
              "      <td>5.0</td>\n",
              "      <td>1137801600</td>\n",
              "    </tr>\n",
              "    <tr>\n",
              "      <th>9</th>\n",
              "      <td>0060786817</td>\n",
              "      <td>A5EXND10WD4PM</td>\n",
              "      <td>3.0</td>\n",
              "      <td>1137542400</td>\n",
              "    </tr>\n",
              "    <tr>\n",
              "      <th>10</th>\n",
              "      <td>0060786817</td>\n",
              "      <td>AVJ37XQN3ID16</td>\n",
              "      <td>5.0</td>\n",
              "      <td>1137542400</td>\n",
              "    </tr>\n",
              "    <tr>\n",
              "      <th>11</th>\n",
              "      <td>0060786817</td>\n",
              "      <td>A21NVBFIEQWDSG</td>\n",
              "      <td>4.0</td>\n",
              "      <td>1136851200</td>\n",
              "    </tr>\n",
              "    <tr>\n",
              "      <th>12</th>\n",
              "      <td>0060786817</td>\n",
              "      <td>A1KWVR13XUOGQG</td>\n",
              "      <td>5.0</td>\n",
              "      <td>1223510400</td>\n",
              "    </tr>\n",
              "    <tr>\n",
              "      <th>13</th>\n",
              "      <td>0060786817</td>\n",
              "      <td>A2PH70X2FVDDGH</td>\n",
              "      <td>4.0</td>\n",
              "      <td>1208995200</td>\n",
              "    </tr>\n",
              "    <tr>\n",
              "      <th>14</th>\n",
              "      <td>0060786817</td>\n",
              "      <td>A25R6KND6KDDCU</td>\n",
              "      <td>3.0</td>\n",
              "      <td>1187222400</td>\n",
              "    </tr>\n",
              "    <tr>\n",
              "      <th>15</th>\n",
              "      <td>0060786817</td>\n",
              "      <td>A1X7HRXX3BJXQ8</td>\n",
              "      <td>4.0</td>\n",
              "      <td>1186272000</td>\n",
              "    </tr>\n",
              "    <tr>\n",
              "      <th>16</th>\n",
              "      <td>0060786817</td>\n",
              "      <td>A4KWKERR4FVWC</td>\n",
              "      <td>4.0</td>\n",
              "      <td>1184803200</td>\n",
              "    </tr>\n",
              "    <tr>\n",
              "      <th>17</th>\n",
              "      <td>0060786817</td>\n",
              "      <td>A1A4KLWL4O1JXY</td>\n",
              "      <td>4.0</td>\n",
              "      <td>1176163200</td>\n",
              "    </tr>\n",
              "    <tr>\n",
              "      <th>18</th>\n",
              "      <td>0060786817</td>\n",
              "      <td>A33CQQQ6H25GGD</td>\n",
              "      <td>1.0</td>\n",
              "      <td>1168473600</td>\n",
              "    </tr>\n",
              "    <tr>\n",
              "      <th>19</th>\n",
              "      <td>0060786817</td>\n",
              "      <td>A2RH8YVDQRRPNV</td>\n",
              "      <td>2.0</td>\n",
              "      <td>1163635200</td>\n",
              "    </tr>\n",
              "  </tbody>\n",
              "</table>\n",
              "</div>"
            ],
            "text/plain": [
              "       user_id      product_id  rating   timestamp\n",
              "0   0060009810  A1N070NS9CJQ2I     5.0  1026864000\n",
              "1   0060009810  A3P0KRKOBQK1KN     5.0  1025913600\n",
              "2   0060009810  A192HO2ICJ75VU     5.0  1025654400\n",
              "3   0060009810  A2T278FKFL3BLT     4.0  1025395200\n",
              "4   0060009810  A2ZUXVTW8RXBXW     5.0  1025222400\n",
              "5   0060009810  A21JDG4HA6OLPF     4.0  1024963200\n",
              "6   0060009810  A2NCADLQY962YD     5.0  1024704000\n",
              "7   0060786817  A2UNA438B0FRA8     5.0  1138233600\n",
              "8   0060786817  A2NQQSHSQKKGEX     5.0  1137801600\n",
              "9   0060786817   A5EXND10WD4PM     3.0  1137542400\n",
              "10  0060786817   AVJ37XQN3ID16     5.0  1137542400\n",
              "11  0060786817  A21NVBFIEQWDSG     4.0  1136851200\n",
              "12  0060786817  A1KWVR13XUOGQG     5.0  1223510400\n",
              "13  0060786817  A2PH70X2FVDDGH     4.0  1208995200\n",
              "14  0060786817  A25R6KND6KDDCU     3.0  1187222400\n",
              "15  0060786817  A1X7HRXX3BJXQ8     4.0  1186272000\n",
              "16  0060786817   A4KWKERR4FVWC     4.0  1184803200\n",
              "17  0060786817  A1A4KLWL4O1JXY     4.0  1176163200\n",
              "18  0060786817  A33CQQQ6H25GGD     1.0  1168473600\n",
              "19  0060786817  A2RH8YVDQRRPNV     2.0  1163635200"
            ]
          },
          "metadata": {},
          "execution_count": 6
        }
      ]
    },
    {
      "cell_type": "code",
      "metadata": {
        "colab": {
          "base_uri": "https://localhost:8080/"
        },
        "id": "iPa5Teh4Qrbu",
        "outputId": "c138f65f-c198-44af-e9f3-5afb3318e0e2"
      },
      "source": [
        "df.info()"
      ],
      "execution_count": 7,
      "outputs": [
        {
          "output_type": "stream",
          "name": "stdout",
          "text": [
            "<class 'pandas.core.frame.DataFrame'>\n",
            "RangeIndex: 10000 entries, 0 to 9999\n",
            "Data columns (total 4 columns):\n",
            " #   Column      Non-Null Count  Dtype  \n",
            "---  ------      --------------  -----  \n",
            " 0   user_id     10000 non-null  object \n",
            " 1   product_id  10000 non-null  object \n",
            " 2   rating      10000 non-null  float64\n",
            " 3   timestamp   10000 non-null  int64  \n",
            "dtypes: float64(1), int64(1), object(2)\n",
            "memory usage: 312.6+ KB\n"
          ]
        }
      ]
    },
    {
      "cell_type": "code",
      "metadata": {
        "colab": {
          "base_uri": "https://localhost:8080/"
        },
        "id": "39RwjfaxbsDJ",
        "outputId": "50c1c420-28ff-4d34-a9a4-48896fb0de2b"
      },
      "source": [
        "df[\"rating\"].value_counts().sort_index()"
      ],
      "execution_count": 8,
      "outputs": [
        {
          "output_type": "execute_result",
          "data": {
            "text/plain": [
              "1.0     883\n",
              "2.0     423\n",
              "3.0     691\n",
              "4.0    1828\n",
              "5.0    6175\n",
              "Name: rating, dtype: int64"
            ]
          },
          "metadata": {},
          "execution_count": 8
        }
      ]
    },
    {
      "cell_type": "code",
      "metadata": {
        "colab": {
          "base_uri": "https://localhost:8080/",
          "height": 288
        },
        "id": "U9ZCyCEPQre0",
        "outputId": "c6de9f8c-1238-4da9-c1c2-36656eed5212"
      },
      "source": [
        "df[\"rating\"].value_counts().sort_index().plot.bar()"
      ],
      "execution_count": 9,
      "outputs": [
        {
          "output_type": "execute_result",
          "data": {
            "text/plain": [
              "<matplotlib.axes._subplots.AxesSubplot at 0x7f7088caac10>"
            ]
          },
          "metadata": {},
          "execution_count": 9
        },
        {
          "output_type": "display_data",
          "data": {
            "image/png": "[encoded data removed]",
            "text/plain": [
              "<Figure size 432x288 with 1 Axes>"
            ]
          },
          "metadata": {
            "needs_background": "light"
          }
        }
      ]
    },
    {
      "cell_type": "markdown",
      "metadata": {
        "id": "s9FS36t2t3Y5"
      },
      "source": [
        "The ratings repartition is really skewed on the right i.e. on the highest ratings (e.g. 4, 5)."
      ]
    },
    {
      "cell_type": "code",
      "metadata": {
        "id": "RlhCKjjPbyxf"
      },
      "source": [
        ""
      ],
      "execution_count": 9,
      "outputs": []
    },
    {
      "cell_type": "markdown",
      "metadata": {
        "id": "uAtyNQB3anEU"
      },
      "source": [
        "Now it is time to load the dataset into `Surprise` using its module `Dataset`"
      ]
    },
    {
      "cell_type": "code",
      "metadata": {
        "id": "LfpQiblEJuL2"
      },
      "source": [
        "reader = Reader(rating_scale=(1, 5))"
      ],
      "execution_count": 10,
      "outputs": []
    },
    {
      "cell_type": "code",
      "metadata": {
        "id": "IZF1ZpL1JuIr"
      },
      "source": [
        "data = Dataset.load_from_df(df[['user_id', 'product_id', 'rating']], reader)"
      ],
      "execution_count": 11,
      "outputs": []
    },
    {
      "cell_type": "code",
      "metadata": {
        "colab": {
          "base_uri": "https://localhost:8080/"
        },
        "id": "NmZoYfECaLmf",
        "outputId": "112e1854-e6e3-4736-e478-15015a6df28b"
      },
      "source": [
        "data.raw_ratings[:10]"
      ],
      "execution_count": 12,
      "outputs": [
        {
          "output_type": "execute_result",
          "data": {
            "text/plain": [
              "[('0060009810', 'A1N070NS9CJQ2I', 5.0, None),\n",
              " ('0060009810', 'A3P0KRKOBQK1KN', 5.0, None),\n",
              " ('0060009810', 'A192HO2ICJ75VU', 5.0, None),\n",
              " ('0060009810', 'A2T278FKFL3BLT', 4.0, None),\n",
              " ('0060009810', 'A2ZUXVTW8RXBXW', 5.0, None),\n",
              " ('0060009810', 'A21JDG4HA6OLPF', 4.0, None),\n",
              " ('0060009810', 'A2NCADLQY962YD', 5.0, None),\n",
              " ('0060786817', 'A2UNA438B0FRA8', 5.0, None),\n",
              " ('0060786817', 'A2NQQSHSQKKGEX', 5.0, None),\n",
              " ('0060786817', 'A5EXND10WD4PM', 3.0, None)]"
            ]
          },
          "metadata": {},
          "execution_count": 12
        }
      ]
    },
    {
      "cell_type": "code",
      "metadata": {
        "id": "Z_RbQhF1aLjs"
      },
      "source": [
        ""
      ],
      "execution_count": 12,
      "outputs": []
    },
    {
      "cell_type": "code",
      "metadata": {
        "id": "Qo9PUUs4aLgh"
      },
      "source": [
        ""
      ],
      "execution_count": 12,
      "outputs": []
    },
    {
      "cell_type": "markdown",
      "metadata": {
        "id": "3ZKpePHupvsi"
      },
      "source": [
        "# User-User collaborative filtering"
      ]
    },
    {
      "cell_type": "code",
      "metadata": {
        "id": "1Z_3lJbMJt3d"
      },
      "source": [
        "# Create model object\n",
        "userBased_model = KNNBasic(sim_options={'user_based': True})"
      ],
      "execution_count": 13,
      "outputs": []
    },
    {
      "cell_type": "code",
      "metadata": {
        "colab": {
          "base_uri": "https://localhost:8080/"
        },
        "id": "49yIh__WT-w2",
        "outputId": "31351a8f-3c99-4faf-d408-ef23f7c6b344"
      },
      "source": [
        "model_user_results = cross_validate(userBased_model, data, measures=['RMSE', 'MAE'], cv=5, verbose=True)"
      ],
      "execution_count": 14,
      "outputs": [
        {
          "output_type": "stream",
          "name": "stdout",
          "text": [
            "Computing the msd similarity matrix...\n",
            "Done computing similarity matrix.\n",
            "Computing the msd similarity matrix...\n",
            "Done computing similarity matrix.\n",
            "Computing the msd similarity matrix...\n",
            "Done computing similarity matrix.\n",
            "Computing the msd similarity matrix...\n",
            "Done computing similarity matrix.\n",
            "Computing the msd similarity matrix...\n",
            "Done computing similarity matrix.\n",
            "Evaluating RMSE, MAE of algorithm KNNBasic on 5 split(s).\n",
            "\n",
            "                  Fold 1  Fold 2  Fold 3  Fold 4  Fold 5  Mean    Std     \n",
            "RMSE (testset)    1.2695  1.2272  1.2866  1.2463  1.2935  1.2646  0.0248  \n",
            "MAE (testset)     0.9926  0.9570  1.0006  0.9717  0.9987  0.9841  0.0170  \n",
            "Fit time          0.00    0.00    0.00    0.00    0.00    0.00    0.00    \n",
            "Test time         0.02    0.02    0.08    0.02    0.01    0.03    0.02    \n"
          ]
        }
      ]
    },
    {
      "cell_type": "code",
      "metadata": {
        "id": "26oLF_f_T-ur"
      },
      "source": [
        ""
      ],
      "execution_count": 14,
      "outputs": []
    },
    {
      "cell_type": "markdown",
      "metadata": {
        "id": "A20VpzmUp2Tb"
      },
      "source": [
        "# Item-Item collaborative filtering"
      ]
    },
    {
      "cell_type": "code",
      "metadata": {
        "id": "Pi-YTVdVT-rz"
      },
      "source": [
        "# Create model object\n",
        "itemBased_model = KNNBasic(sim_options={'user_based': False})"
      ],
      "execution_count": 15,
      "outputs": []
    },
    {
      "cell_type": "code",
      "metadata": {
        "colab": {
          "base_uri": "https://localhost:8080/"
        },
        "id": "ctA-q-IHT-pz",
        "outputId": "62ac9f75-0c4f-4820-f5d8-6b50d3e9d318"
      },
      "source": [
        "model_item_results = cross_validate(itemBased_model, data, measures=['RMSE', 'MAE'], cv=5, verbose=True)"
      ],
      "execution_count": 16,
      "outputs": [
        {
          "output_type": "stream",
          "name": "stdout",
          "text": [
            "Computing the msd similarity matrix...\n",
            "Done computing similarity matrix.\n",
            "Computing the msd similarity matrix...\n",
            "Done computing similarity matrix.\n",
            "Computing the msd similarity matrix...\n",
            "Done computing similarity matrix.\n",
            "Computing the msd similarity matrix...\n",
            "Done computing similarity matrix.\n",
            "Computing the msd similarity matrix...\n",
            "Done computing similarity matrix.\n",
            "Evaluating RMSE, MAE of algorithm KNNBasic on 5 split(s).\n",
            "\n",
            "                  Fold 1  Fold 2  Fold 3  Fold 4  Fold 5  Mean    Std     \n",
            "RMSE (testset)    1.2620  1.2757  1.2762  1.2740  1.2572  1.2690  0.0079  \n",
            "MAE (testset)     0.9775  0.9861  0.9962  0.9927  0.9842  0.9873  0.0066  \n",
            "Fit time          2.55    2.67    2.12    2.15    1.98    2.29    0.27    \n",
            "Test time         0.02    0.02    0.02    0.02    0.02    0.02    0.00    \n"
          ]
        }
      ]
    },
    {
      "cell_type": "code",
      "metadata": {
        "id": "nm8JxEcqT-mp"
      },
      "source": [
        ""
      ],
      "execution_count": 16,
      "outputs": []
    },
    {
      "cell_type": "markdown",
      "metadata": {
        "id": "Iep-Ptt7p6Kw"
      },
      "source": [
        "# Matrix Factorization"
      ]
    },
    {
      "cell_type": "code",
      "metadata": {
        "id": "AlwyTA7tT-j3"
      },
      "source": [
        "# Create model object\n",
        "matrix_model = SVD()"
      ],
      "execution_count": 17,
      "outputs": []
    },
    {
      "cell_type": "code",
      "metadata": {
        "colab": {
          "base_uri": "https://localhost:8080/"
        },
        "id": "7rOji7GxT-fW",
        "outputId": "f92c5b97-31b2-4cfd-eec3-77d18b8df1d8"
      },
      "source": [
        "model_matrix_results = cross_validate(matrix_model, data, measures=['RMSE', 'MAE'], cv=5, verbose=True)"
      ],
      "execution_count": 18,
      "outputs": [
        {
          "output_type": "stream",
          "name": "stdout",
          "text": [
            "Evaluating RMSE, MAE of algorithm SVD on 5 split(s).\n",
            "\n",
            "                  Fold 1  Fold 2  Fold 3  Fold 4  Fold 5  Mean    Std     \n",
            "RMSE (testset)    1.1788  1.1919  1.2080  1.1794  1.1540  1.1824  0.0178  \n",
            "MAE (testset)     0.9051  0.9171  0.9179  0.9125  0.9052  0.9115  0.0055  \n",
            "Fit time          0.52    0.53    0.53    0.55    0.53    0.53    0.01    \n",
            "Test time         0.08    0.01    0.01    0.01    0.01    0.03    0.03    \n"
          ]
        }
      ]
    },
    {
      "cell_type": "markdown",
      "metadata": {
        "id": "wR9f_c_luPLv"
      },
      "source": [
        "Based on the RMSE values, the matrix factorization is performing the best on the dataset."
      ]
    },
    {
      "cell_type": "code",
      "metadata": {
        "id": "j0pyVSNdaLd3"
      },
      "source": [
        ""
      ],
      "execution_count": 18,
      "outputs": []
    },
    {
      "cell_type": "code",
      "metadata": {
        "id": "rDA35Lw5aLbE"
      },
      "source": [
        ""
      ],
      "execution_count": 18,
      "outputs": []
    },
    {
      "cell_type": "markdown",
      "metadata": {
        "id": "1DDav-olQ-Ll"
      },
      "source": [
        "# Evaluating the models using **Precision** and **Recall**"
      ]
    },
    {
      "cell_type": "code",
      "metadata": {
        "id": "cAdGvHi71b7-"
      },
      "source": [
        "def precision_recall_at_k(predictions, k=10, threshold=3.5):\n",
        "    '''Return precision and recall at k metrics for each user.'''\n",
        "\n",
        "    # First map the predictions to each user.\n",
        "    user_est_true = dict()\n",
        "    for uid, _, true_r, est, _ in predictions:\n",
        "        current = user_est_true.get(uid, list())\n",
        "        current.append((est, true_r))\n",
        "        user_est_true[uid] = current\n",
        "\n",
        "    precisions = dict()\n",
        "    recalls = dict()\n",
        "    for uid, user_ratings in user_est_true.items():\n",
        "\n",
        "        # Sort user ratings by estimated value\n",
        "        user_ratings.sort(key=lambda x: x[0], reverse=True)\n",
        "\n",
        "        # Number of relevant items\n",
        "        n_rel = sum((true_r >= threshold) for (_, true_r) in user_ratings)\n",
        "\n",
        "        # Number of recommended items in top k\n",
        "        n_rec_k = sum((est >= threshold) for (est, _) in user_ratings[:k])\n",
        "\n",
        "        # Number of relevant and recommended items in top k\n",
        "        n_rel_and_rec_k = sum(((true_r >= threshold) and (est >= threshold))\n",
        "                              for (est, true_r) in user_ratings[:k])\n",
        "\n",
        "        # Precision@K: Proportion of recommended items that are relevant\n",
        "        precisions[uid] = n_rel_and_rec_k / n_rec_k if n_rec_k != 0 else 1\n",
        "\n",
        "        # Recall@K: Proportion of relevant items that are recommended\n",
        "        recalls[uid] = n_rel_and_rec_k / n_rel if n_rel != 0 else 1\n",
        "\n",
        "    return precisions, recalls"
      ],
      "execution_count": 19,
      "outputs": []
    },
    {
      "cell_type": "code",
      "metadata": {
        "id": "Hl7bnyUV1bwp"
      },
      "source": [
        ""
      ],
      "execution_count": 19,
      "outputs": []
    },
    {
      "cell_type": "code",
      "metadata": {
        "colab": {
          "base_uri": "https://localhost:8080/"
        },
        "id": "e0R6G35M1btb",
        "outputId": "ffeb31f4-5d76-44f3-e524-be380f4769b9"
      },
      "source": [
        "# Make list of k values\n",
        "K = [5, 10]\n",
        "\n",
        "# Make list of models\n",
        "models = [userBased_model, itemBased_model, matrix_model]\n",
        "model_names = ['model_user', 'model_item', 'model_matrix']\n",
        "\n",
        "# Create k-fold cross validation object\n",
        "kf = KFold(n_splits=5)\n",
        "\n",
        "for k in K:\n",
        "    for i, model in enumerate(models):\n",
        "        print(f'>>> k={k}, model={model_names[i]}')\n",
        "        # Run folder and take average\n",
        "        p = []\n",
        "        r = []\n",
        "        for trainset, testset in kf.split(data):\n",
        "            model.fit(trainset)\n",
        "            predictions = model.test(testset, verbose=False)\n",
        "            precisions, recalls = precision_recall_at_k(predictions, k=k, threshold=3.5)\n",
        "\n",
        "            # Precision and recall can then be averaged over all users\n",
        "            p.append(sum(prec for prec in precisions.values()) / len(precisions))\n",
        "            r.append(sum(rec for rec in recalls.values()) / len(recalls))\n",
        "        \n",
        "        print('>>> precision:', round(sum(p) / len(p), 3))\n",
        "        print('>>> recall  :', round(sum(r) / len(r), 3))\n",
        "        print('\\n')"
      ],
      "execution_count": 20,
      "outputs": [
        {
          "output_type": "stream",
          "name": "stdout",
          "text": [
            ">>> k=5, model=model_user\n",
            "Computing the msd similarity matrix...\n",
            "Done computing similarity matrix.\n",
            "Computing the msd similarity matrix...\n",
            "Done computing similarity matrix.\n",
            "Computing the msd similarity matrix...\n",
            "Done computing similarity matrix.\n",
            "Computing the msd similarity matrix...\n",
            "Done computing similarity matrix.\n",
            "Computing the msd similarity matrix...\n",
            "Done computing similarity matrix.\n",
            ">>> precision: 0.787\n",
            ">>> recall  : 0.723\n",
            "\n",
            "\n",
            ">>> k=5, model=model_item\n",
            "Computing the msd similarity matrix...\n",
            "Done computing similarity matrix.\n",
            "Computing the msd similarity matrix...\n",
            "Done computing similarity matrix.\n",
            "Computing the msd similarity matrix...\n",
            "Done computing similarity matrix.\n",
            "Computing the msd similarity matrix...\n",
            "Done computing similarity matrix.\n",
            "Computing the msd similarity matrix...\n",
            "Done computing similarity matrix.\n",
            ">>> precision: 0.783\n",
            ">>> recall  : 0.722\n",
            "\n",
            "\n",
            ">>> k=5, model=model_matrix\n",
            ">>> precision: 0.829\n",
            ">>> recall  : 0.685\n",
            "\n",
            "\n",
            ">>> k=10, model=model_user\n",
            "Computing the msd similarity matrix...\n",
            "Done computing similarity matrix.\n",
            "Computing the msd similarity matrix...\n",
            "Done computing similarity matrix.\n",
            "Computing the msd similarity matrix...\n",
            "Done computing similarity matrix.\n",
            "Computing the msd similarity matrix...\n",
            "Done computing similarity matrix.\n",
            "Computing the msd similarity matrix...\n",
            "Done computing similarity matrix.\n",
            ">>> precision: 0.781\n",
            ">>> recall  : 0.831\n",
            "\n",
            "\n",
            ">>> k=10, model=model_item\n",
            "Computing the msd similarity matrix...\n",
            "Done computing similarity matrix.\n",
            "Computing the msd similarity matrix...\n",
            "Done computing similarity matrix.\n",
            "Computing the msd similarity matrix...\n",
            "Done computing similarity matrix.\n",
            "Computing the msd similarity matrix...\n",
            "Done computing similarity matrix.\n",
            "Computing the msd similarity matrix...\n",
            "Done computing similarity matrix.\n",
            ">>> precision: 0.788\n",
            ">>> recall  : 0.837\n",
            "\n",
            "\n",
            ">>> k=10, model=model_matrix\n",
            ">>> precision: 0.828\n",
            ">>> recall  : 0.779\n",
            "\n",
            "\n"
          ]
        }
      ]
    },
    {
      "cell_type": "markdown",
      "metadata": {
        "id": "o_QG8yjDweOM"
      },
      "source": [
        "Comparing the precision and recall, the matrix factorization model based on Singular Value Decomposition, is performing the best on the dataset for recommendation."
      ]
    },
    {
      "cell_type": "code",
      "metadata": {
        "id": "swU8buu-1bqB"
      },
      "source": [
        ""
      ],
      "execution_count": 20,
      "outputs": []
    },
    {
      "cell_type": "markdown",
      "metadata": {
        "id": "V60kAp9hRMlZ"
      },
      "source": [
        "# Prediction of Top-N for each user"
      ]
    },
    {
      "cell_type": "code",
      "metadata": {
        "id": "SBQ926ki1bm7"
      },
      "source": [
        "def get_top_n(predictions, n=5):\n",
        "    '''Return the top-N recommendation for each user from a set of predictions.\n",
        "\n",
        "    Args:\n",
        "        predictions(list of Prediction objects): The list of predictions, as\n",
        "            returned by the test method of an algorithm.\n",
        "        n(int): The number of recommendation to output for each user. Default\n",
        "            is 5.\n",
        "\n",
        "    Returns:\n",
        "    A dict where keys are user (raw) ids and values are lists of tuples:\n",
        "        [(raw item id, rating estimation), ...] of size n.\n",
        "    '''\n",
        "\n",
        "    # First map the predictions to each user.\n",
        "    top_n = dict()\n",
        "    for uid, iid, true_r, est, _ in predictions:\n",
        "        current = top_n.get(uid, [])\n",
        "        current.append((iid, est))\n",
        "        top_n[uid] = current\n",
        "\n",
        "    # Then sort the predictions for each user and retrieve the k highest ones.\n",
        "    for uid, user_ratings in top_n.items():\n",
        "        user_ratings.sort(key=lambda x: x[1], reverse=True)\n",
        "        top_n[uid] = user_ratings[:n]\n",
        "\n",
        "    return top_n"
      ],
      "execution_count": 21,
      "outputs": []
    },
    {
      "cell_type": "code",
      "metadata": {
        "id": "GbYxKZye1bjr"
      },
      "source": [
        "trainset = data.build_full_trainset()\n",
        "testset = trainset.build_anti_testset()"
      ],
      "execution_count": 22,
      "outputs": []
    },
    {
      "cell_type": "code",
      "metadata": {
        "colab": {
          "base_uri": "https://localhost:8080/"
        },
        "id": "LAd7qBNT1bfu",
        "outputId": "4609dadb-f28a-4e5e-9b36-b2d66e583028"
      },
      "source": [
        "for i, model in enumerate(models):\n",
        "    model.fit(trainset)\n",
        "    predictions = model.test(testset)\n",
        "    top_n = get_top_n(predictions, n=5)\n",
        "    # Print the first one\n",
        "    user = list(top_n.keys())[0]\n",
        "    print(f'model name: {model_names[i]}')\n",
        "    print(f'user ID: {user}')\n",
        "    print(f'top 5 products ID\\'s this user would like, sorted by rating highest to lowest: \\n{top_n[user]}')\n",
        "    print('\\n')"
      ],
      "execution_count": 23,
      "outputs": [
        {
          "output_type": "stream",
          "name": "stdout",
          "text": [
            "Computing the msd similarity matrix...\n",
            "Done computing similarity matrix.\n",
            "model name: model_user\n",
            "user ID: 0060009810\n",
            "top 5 products ID's this user would like, sorted by rating highest to lowest: \n",
            "[('A2UNA438B0FRA8', 4.1989), ('A2NQQSHSQKKGEX', 4.1989), ('A5EXND10WD4PM', 4.1989), ('AVJ37XQN3ID16', 4.1989), ('A21NVBFIEQWDSG', 4.1989)]\n",
            "\n",
            "\n",
            "Computing the msd similarity matrix...\n",
            "Done computing similarity matrix.\n",
            "model name: model_item\n",
            "user ID: 0060009810\n",
            "top 5 products ID's this user would like, sorted by rating highest to lowest: \n",
            "[('A2UNA438B0FRA8', 4.1989), ('A2NQQSHSQKKGEX', 4.1989), ('A5EXND10WD4PM', 4.1989), ('AVJ37XQN3ID16', 4.1989), ('A21NVBFIEQWDSG', 4.1989)]\n",
            "\n",
            "\n",
            "model name: model_matrix\n",
            "user ID: 0060009810\n",
            "top 5 products ID's this user would like, sorted by rating highest to lowest: \n",
            "[('AQGRC0D8G7CRL', 4.8418099629494105), ('A2G2K3OC74CPFZ', 4.823483992953798), ('A19N3S7CBSU6O7', 4.820252623217471), ('A1FDDGIDFVN95L', 4.8105512152138346), ('AZ5K5CVZRSN5T', 4.810465295674783)]\n",
            "\n",
            "\n"
          ]
        }
      ]
    },
    {
      "cell_type": "code",
      "metadata": {
        "id": "CXic_je7aK70"
      },
      "source": [
        ""
      ],
      "execution_count": 23,
      "outputs": []
    },
    {
      "cell_type": "markdown",
      "metadata": {
        "id": "P08whpq4r4Cv"
      },
      "source": [
        "# Predicting the rating of products for a particular user (here user with ID: \"0060009810\")"
      ]
    },
    {
      "cell_type": "code",
      "metadata": {
        "colab": {
          "base_uri": "https://localhost:8080/"
        },
        "id": "fjVtKWq7qkGR",
        "outputId": "3b2e1ed0-082f-4e2e-9893-a3e41a7d280f"
      },
      "source": [
        "products = df[\"product_id\"].copy()\n",
        "products"
      ],
      "execution_count": 25,
      "outputs": [
        {
          "output_type": "execute_result",
          "data": {
            "text/plain": [
              "0       A1N070NS9CJQ2I\n",
              "1       A3P0KRKOBQK1KN\n",
              "2       A192HO2ICJ75VU\n",
              "3       A2T278FKFL3BLT\n",
              "4       A2ZUXVTW8RXBXW\n",
              "             ...      \n",
              "9995    A2CYLBQGS6P11M\n",
              "9996    A2L6TEVTTR58GK\n",
              "9997    A2653RDOE8VHB3\n",
              "9998    A1IYIDWBKOOOVO\n",
              "9999    A2XZA97XWV4L3L\n",
              "Name: product_id, Length: 10000, dtype: object"
            ]
          },
          "metadata": {},
          "execution_count": 25
        }
      ]
    },
    {
      "cell_type": "code",
      "metadata": {
        "colab": {
          "base_uri": "https://localhost:8080/"
        },
        "id": "CcfJbo8xrRhv",
        "outputId": "13a6b78c-9150-4218-c135-53713d6e01d4"
      },
      "source": [
        "type(products)"
      ],
      "execution_count": 28,
      "outputs": [
        {
          "output_type": "execute_result",
          "data": {
            "text/plain": [
              "pandas.core.series.Series"
            ]
          },
          "metadata": {},
          "execution_count": 28
        }
      ]
    },
    {
      "cell_type": "code",
      "metadata": {
        "id": "QleI98m_rdDr"
      },
      "source": [
        "products = pd.DataFrame(products)"
      ],
      "execution_count": 31,
      "outputs": []
    },
    {
      "cell_type": "code",
      "metadata": {
        "colab": {
          "base_uri": "https://localhost:8080/",
          "height": 417
        },
        "id": "9mgqNcs2rhsU",
        "outputId": "1cb2b5f8-2be3-479d-a855-f827605ef829"
      },
      "source": [
        "products"
      ],
      "execution_count": 32,
      "outputs": [
        {
          "output_type": "execute_result",
          "data": {
            "text/html": [
              "<div>\n",
              "<style scoped>\n",
              "    .dataframe tbody tr th:only-of-type {\n",
              "        vertical-align: middle;\n",
              "    }\n",
              "\n",
              "    .dataframe tbody tr th {\n",
              "        vertical-align: top;\n",
              "    }\n",
              "\n",
              "    .dataframe thead th {\n",
              "        text-align: right;\n",
              "    }\n",
              "</style>\n",
              "<table border=\"1\" class=\"dataframe\">\n",
              "  <thead>\n",
              "    <tr style=\"text-align: right;\">\n",
              "      <th></th>\n",
              "      <th>product_id</th>\n",
              "    </tr>\n",
              "  </thead>\n",
              "  <tbody>\n",
              "    <tr>\n",
              "      <th>0</th>\n",
              "      <td>A1N070NS9CJQ2I</td>\n",
              "    </tr>\n",
              "    <tr>\n",
              "      <th>1</th>\n",
              "      <td>A3P0KRKOBQK1KN</td>\n",
              "    </tr>\n",
              "    <tr>\n",
              "      <th>2</th>\n",
              "      <td>A192HO2ICJ75VU</td>\n",
              "    </tr>\n",
              "    <tr>\n",
              "      <th>3</th>\n",
              "      <td>A2T278FKFL3BLT</td>\n",
              "    </tr>\n",
              "    <tr>\n",
              "      <th>4</th>\n",
              "      <td>A2ZUXVTW8RXBXW</td>\n",
              "    </tr>\n",
              "    <tr>\n",
              "      <th>...</th>\n",
              "      <td>...</td>\n",
              "    </tr>\n",
              "    <tr>\n",
              "      <th>9995</th>\n",
              "      <td>A2CYLBQGS6P11M</td>\n",
              "    </tr>\n",
              "    <tr>\n",
              "      <th>9996</th>\n",
              "      <td>A2L6TEVTTR58GK</td>\n",
              "    </tr>\n",
              "    <tr>\n",
              "      <th>9997</th>\n",
              "      <td>A2653RDOE8VHB3</td>\n",
              "    </tr>\n",
              "    <tr>\n",
              "      <th>9998</th>\n",
              "      <td>A1IYIDWBKOOOVO</td>\n",
              "    </tr>\n",
              "    <tr>\n",
              "      <th>9999</th>\n",
              "      <td>A2XZA97XWV4L3L</td>\n",
              "    </tr>\n",
              "  </tbody>\n",
              "</table>\n",
              "<p>10000 rows × 1 columns</p>\n",
              "</div>"
            ],
            "text/plain": [
              "          product_id\n",
              "0     A1N070NS9CJQ2I\n",
              "1     A3P0KRKOBQK1KN\n",
              "2     A192HO2ICJ75VU\n",
              "3     A2T278FKFL3BLT\n",
              "4     A2ZUXVTW8RXBXW\n",
              "...              ...\n",
              "9995  A2CYLBQGS6P11M\n",
              "9996  A2L6TEVTTR58GK\n",
              "9997  A2653RDOE8VHB3\n",
              "9998  A1IYIDWBKOOOVO\n",
              "9999  A2XZA97XWV4L3L\n",
              "\n",
              "[10000 rows x 1 columns]"
            ]
          },
          "metadata": {},
          "execution_count": 32
        }
      ]
    },
    {
      "cell_type": "code",
      "metadata": {
        "id": "gFw-itWPqkJv"
      },
      "source": [
        "products['Estimate_Score'] = products['product_id'].apply(lambda x: model.predict(\"0060009810\", x).est)"
      ],
      "execution_count": 34,
      "outputs": []
    },
    {
      "cell_type": "code",
      "metadata": {
        "colab": {
          "base_uri": "https://localhost:8080/",
          "height": 417
        },
        "id": "8Hky917CqkNm",
        "outputId": "f8115d98-f914-46dd-daa8-6feeaf8b09f9"
      },
      "source": [
        "products"
      ],
      "execution_count": 35,
      "outputs": [
        {
          "output_type": "execute_result",
          "data": {
            "text/html": [
              "<div>\n",
              "<style scoped>\n",
              "    .dataframe tbody tr th:only-of-type {\n",
              "        vertical-align: middle;\n",
              "    }\n",
              "\n",
              "    .dataframe tbody tr th {\n",
              "        vertical-align: top;\n",
              "    }\n",
              "\n",
              "    .dataframe thead th {\n",
              "        text-align: right;\n",
              "    }\n",
              "</style>\n",
              "<table border=\"1\" class=\"dataframe\">\n",
              "  <thead>\n",
              "    <tr style=\"text-align: right;\">\n",
              "      <th></th>\n",
              "      <th>product_id</th>\n",
              "      <th>Estimate_Score</th>\n",
              "    </tr>\n",
              "  </thead>\n",
              "  <tbody>\n",
              "    <tr>\n",
              "      <th>0</th>\n",
              "      <td>A1N070NS9CJQ2I</td>\n",
              "      <td>4.668397</td>\n",
              "    </tr>\n",
              "    <tr>\n",
              "      <th>1</th>\n",
              "      <td>A3P0KRKOBQK1KN</td>\n",
              "      <td>4.497672</td>\n",
              "    </tr>\n",
              "    <tr>\n",
              "      <th>2</th>\n",
              "      <td>A192HO2ICJ75VU</td>\n",
              "      <td>4.690196</td>\n",
              "    </tr>\n",
              "    <tr>\n",
              "      <th>3</th>\n",
              "      <td>A2T278FKFL3BLT</td>\n",
              "      <td>4.400760</td>\n",
              "    </tr>\n",
              "    <tr>\n",
              "      <th>4</th>\n",
              "      <td>A2ZUXVTW8RXBXW</td>\n",
              "      <td>4.575286</td>\n",
              "    </tr>\n",
              "    <tr>\n",
              "      <th>...</th>\n",
              "      <td>...</td>\n",
              "      <td>...</td>\n",
              "    </tr>\n",
              "    <tr>\n",
              "      <th>9995</th>\n",
              "      <td>A2CYLBQGS6P11M</td>\n",
              "      <td>4.596889</td>\n",
              "    </tr>\n",
              "    <tr>\n",
              "      <th>9996</th>\n",
              "      <td>A2L6TEVTTR58GK</td>\n",
              "      <td>4.404967</td>\n",
              "    </tr>\n",
              "    <tr>\n",
              "      <th>9997</th>\n",
              "      <td>A2653RDOE8VHB3</td>\n",
              "      <td>4.497147</td>\n",
              "    </tr>\n",
              "    <tr>\n",
              "      <th>9998</th>\n",
              "      <td>A1IYIDWBKOOOVO</td>\n",
              "      <td>4.557642</td>\n",
              "    </tr>\n",
              "    <tr>\n",
              "      <th>9999</th>\n",
              "      <td>A2XZA97XWV4L3L</td>\n",
              "      <td>4.584977</td>\n",
              "    </tr>\n",
              "  </tbody>\n",
              "</table>\n",
              "<p>10000 rows × 2 columns</p>\n",
              "</div>"
            ],
            "text/plain": [
              "          product_id  Estimate_Score\n",
              "0     A1N070NS9CJQ2I        4.668397\n",
              "1     A3P0KRKOBQK1KN        4.497672\n",
              "2     A192HO2ICJ75VU        4.690196\n",
              "3     A2T278FKFL3BLT        4.400760\n",
              "4     A2ZUXVTW8RXBXW        4.575286\n",
              "...              ...             ...\n",
              "9995  A2CYLBQGS6P11M        4.596889\n",
              "9996  A2L6TEVTTR58GK        4.404967\n",
              "9997  A2653RDOE8VHB3        4.497147\n",
              "9998  A1IYIDWBKOOOVO        4.557642\n",
              "9999  A2XZA97XWV4L3L        4.584977\n",
              "\n",
              "[10000 rows x 2 columns]"
            ]
          },
          "metadata": {},
          "execution_count": 35
        }
      ]
    },
    {
      "cell_type": "code",
      "metadata": {
        "id": "4RfH0nlbqkQV"
      },
      "source": [
        ""
      ],
      "execution_count": null,
      "outputs": []
    }
  ]
}